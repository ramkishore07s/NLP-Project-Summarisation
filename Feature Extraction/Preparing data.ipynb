{
 "cells": [
  {
   "cell_type": "code",
   "execution_count": 3,
   "metadata": {
    "collapsed": true
   },
   "outputs": [],
   "source": [
    "import os\n",
    "import numpy"
   ]
  },
  {
   "cell_type": "code",
   "execution_count": 4,
   "metadata": {
    "collapsed": true
   },
   "outputs": [],
   "source": [
    "TRAIN = os.listdir('../Dataset/all/training/')\n",
    "DEV = os.listdir(\"../Dataset/all/validation/\")\n",
    "TEST = os.listdir('../Dataset/all/test/')\n",
    "TRAIN_FOLDER = '../Dataset/all/training/'\n",
    "DEV_FOLDER = '../Dataset/all/validation/'\n",
    "TEST_FOLDER = '../Dataset/all/test/'"
   ]
  },
  {
   "cell_type": "code",
   "execution_count": 5,
   "metadata": {},
   "outputs": [
    {
     "data": {
      "text/plain": [
       "(277554, 11443, 13367)"
      ]
     },
     "execution_count": 5,
     "metadata": {},
     "output_type": "execute_result"
    }
   ],
   "source": [
    "len(TRAIN), len(TEST), len(DEV)"
   ]
  },
  {
   "cell_type": "markdown",
   "metadata": {},
   "source": [
    "## Model dataset file:\n",
    "\n",
    "### Introduction\n",
    "\n",
    "This dataset contains CNN and Dailymail articles used for training a summarization system. The script used to create the dataset is modified from the release of Hermann et al. 2015.\n",
    "\n",
    "### Format:\n",
    "\n",
    "Each file contains four parts separated by ‘\\n\\n’. They are\n",
    "* url of the original article;\n",
    "* sentences in the article and their labels (for sentence-based extractive summarization);\n",
    "* extractable highlights (for word extraction-based abstractive summarization);\n",
    "* named entity mapping.\n",
    "\n",
    "### Sentence labels\n",
    "\n",
    "There are three labels for the sentences: 1, 2 and 0. \n",
    "* ** 1 **—-sentence should extracted; \n",
    "* ** 2 **--sentence might be extracted; \n",
    "* ** 0 **—-sentence shouldn't be extracted.\n",
    "\n",
    "### Extractable highlights\n",
    "\n",
    "The extractable highlights are created by examining if a word (or its morphological transformation) in the highlight appears in the article or a general purpose stop-word list, which together constitute the output space (i.e., the allowed vocabulary during summary generation)."
   ]
  },
  {
   "cell_type": "code",
   "execution_count": 9,
   "metadata": {
    "collapsed": true
   },
   "outputs": [],
   "source": [
    "entities = {}\n",
    "docs = []"
   ]
  },
  {
   "cell_type": "code",
   "execution_count": 10,
   "metadata": {
    "collapsed": true
   },
   "outputs": [],
   "source": [
    "def file_parse(file):\n",
    "    global entities\n",
    "    # generating data\n",
    "    \n",
    "    contents = file.read()\n",
    "    parts = contents.split('\\n\\n')\n",
    "    lines = parts[1].split('\\n')\n",
    "    output = [int(line[-1]) for line in lines]\n",
    "    lines = [line[:-1].rstrip() for line in lines]\n",
    "    \n",
    "    # storing entities\n",
    "    entity_map = parts[3].split('\\n')\n",
    "    for i in entity_map:\n",
    "        id, name = i.split(\":\")[:2]\n",
    "        entities[id] = name\n",
    "    file.close()\n",
    "    return {\"lines\": lines, \"output\": output, \"summary\": parts[2].split('\\n')}"
   ]
  },
  {
   "cell_type": "code",
   "execution_count": 11,
   "metadata": {
    "collapsed": true
   },
   "outputs": [],
   "source": [
    "def get_processed_files(folder, file_names):\n",
    "    docs = []\n",
    "    summaries = []\n",
    "    for file in file_names:\n",
    "        try:\n",
    "            docs.append(file_parse(open(folder + file)))\n",
    "        except ValueError:\n",
    "            pass\n",
    "    return docs"
   ]
  },
  {
   "cell_type": "code",
   "execution_count": 12,
   "metadata": {},
   "outputs": [],
   "source": [
    "TRAIN = get_processed_files(TRAIN_FOLDER, TRAIN)"
   ]
  },
  {
   "cell_type": "code",
   "execution_count": 13,
   "metadata": {
    "collapsed": true
   },
   "outputs": [],
   "source": [
    "TEST = get_processed_files(TEST_FOLDER, TEST)\n",
    "DEV = get_processed_files(DEV_FOLDER, DEV)"
   ]
  },
  {
   "cell_type": "code",
   "execution_count": null,
   "metadata": {
    "collapsed": true
   },
   "outputs": [],
   "source": []
  }
 ],
 "metadata": {
  "kernelspec": {
   "display_name": "py3",
   "language": "python",
   "name": "py3"
  },
  "language_info": {
   "codemirror_mode": {
    "name": "ipython",
    "version": 3
   },
   "file_extension": ".py",
   "mimetype": "text/x-python",
   "name": "python",
   "nbconvert_exporter": "python",
   "pygments_lexer": "ipython3",
   "version": "3.5.2"
  }
 },
 "nbformat": 4,
 "nbformat_minor": 2
}
