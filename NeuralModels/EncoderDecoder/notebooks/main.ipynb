{
 "cells": [
  {
   "cell_type": "code",
   "execution_count": 180,
   "metadata": {},
   "outputs": [],
   "source": [
    "%run paths.ipynb\n",
    "%run preprocess.ipynb"
   ]
  },
  {
   "cell_type": "code",
   "execution_count": 181,
   "metadata": {
    "collapsed": true
   },
   "outputs": [],
   "source": [
    "p = parseNeuralSum()"
   ]
  },
  {
   "cell_type": "code",
   "execution_count": 182,
   "metadata": {},
   "outputs": [
    {
     "name": "stdout",
     "output_type": "stream",
     "text": [
      "12208\r"
     ]
    }
   ],
   "source": [
    "p.parse_folder_1(input_folder=CONFIG.RAW_CNN_TRAIN_FOLDER, target_document_folder=CONFIG.CNN_TRAIN_DOCUMENTS_FOLDER, \n",
    "                 target_output_folder=CONFIG.CNN_TRAIN_OUTPUT_FOLDER, target_summary_folder=CONFIG.CNN_TRAIN_SUMMARY_FOLDER)\n",
    "p.parse_folder_1(input_folder=CONFIG.RAW_CNN_TEST_FOLDER, target_document_folder=CONFIG.CNN_TEST_DOCUMENTS_FOLDER, \n",
    "                 target_output_folder=CONFIG.CNN_TEST_OUTPUT_FOLDER, target_summary_folder=CONFIG.CNN_TEST_SUMMARY_FOLDER)\n",
    "p.parse_folder_1(input_folder=CONFIG.RAW_CNN_VALIDATION_FOLDER, target_document_folder=CONFIG.CNN_VALIDATION_DOCUMENTS_FOLDER, \n",
    "                 target_output_folder=CONFIG.CNN_VALIDATION_OUTPUT_FOLDER, target_summary_folder=CONFIG.CNN_VALIDATION_SUMMARY_FOLDER)"
   ]
  },
  {
   "cell_type": "code",
   "execution_count": 124,
   "metadata": {},
   "outputs": [],
   "source": [
    "g = NeuralSumGlove(glove_filename=CONFIG.GLOVE_FILENAME)"
   ]
  },
  {
   "cell_type": "code",
   "execution_count": 125,
   "metadata": {},
   "outputs": [
    {
     "name": "stdout",
     "output_type": "stream",
     "text": [
      "12197\r"
     ]
    }
   ],
   "source": [
    "g.convert_to_indices_(document_folder=CONFIG.CNN_TRAIN_DOCUMENTS_FOLDER, output_folder=CONFIG.CNN_TRAIN_OUTPUT_FOLDER, \n",
    "                     dump_file=CONFIG.CNN_TRAIN_DUMP)\n",
    "g.convert_to_indices_(document_folder=CONFIG.CNN_TEST_DOCUMENTS_FOLDER, output_folder=CONFIG.CNN_TEST_OUTPUT_FOLDER, \n",
    "                     dump_file=CONFIG.CNN_TEST_DUMP)\n",
    "g.convert_to_indices_(document_folder=CONFIG.CNN_VALIDATION_DOCUMENTS_FOLDER, output_folder=CONFIG.CNN_VALIDATION_OUTPUT_FOLDER, \n",
    "                     dump_file=CONFIG.CNN_VALIDATION_DUMP)"
   ]
  },
  {
   "cell_type": "code",
   "execution_count": 126,
   "metadata": {},
   "outputs": [],
   "source": [
    "g.dump_all(CONFIG.GLOVE_CACHE_FILENAME)"
   ]
  },
  {
   "cell_type": "code",
   "execution_count": 127,
   "metadata": {},
   "outputs": [],
   "source": [
    "d = NeuralSumDataHandler()"
   ]
  },
  {
   "cell_type": "code",
   "execution_count": 128,
   "metadata": {},
   "outputs": [],
   "source": [
    "d.load_dump(CONFIG.CNN_TRAIN_DUMP)\n",
    "d.pad(output=True)\n",
    "d.padded_dump(CONFIG.CNN_PADDED_TRAIN_DUMP)\n",
    "d.load_dump(CONFIG.CNN_TEST_DUMP)\n",
    "d.pad(output=True)\n",
    "d.padded_dump(CONFIG.CNN_PADDED_TEST_DUMP)"
   ]
  },
  {
   "cell_type": "markdown",
   "metadata": {},
   "source": [
    "**RUN FROM HERE FOR TRAINING**"
   ]
  },
  {
   "cell_type": "code",
   "execution_count": 129,
   "metadata": {
    "collapsed": true
   },
   "outputs": [],
   "source": [
    "%run paths.ipynb\n",
    "%run preprocess.ipynb\n",
    "%run model.ipynb\n",
    "%run utils.ipynb"
   ]
  },
  {
   "cell_type": "code",
   "execution_count": 130,
   "metadata": {},
   "outputs": [],
   "source": [
    "d = NeuralSumDataHandler()\n",
    "d.load_padded_dump(CONFIG.CNN_PADDED_TRAIN_DUMP)\n",
    "d.make_batches(20)\n",
    "g = NeuralSumGlove(dump_filename=CONFIG.GLOVE_CACHE_FILENAME)\n",
    "torch.cuda.set_device(0)"
   ]
  },
  {
   "cell_type": "code",
   "execution_count": 6,
   "metadata": {},
   "outputs": [
    {
     "data": {
      "text/plain": [
       "EncoderDecoder(\n",
       "  (sentenceEncoder): LSTMSentenceEncoderParallel(\n",
       "    (embeddings): Embedding(400001, 100, padding_idx=400000)\n",
       "    (sentenceEncoder): LSTM(100, 150, batch_first=True)\n",
       "  )\n",
       "  (documentEncoder): LSTM(150, 200, batch_first=True)\n",
       "  (documentDecoder): LSTM(150, 200, batch_first=True)\n",
       "  (classifier): Linear(in_features=200, out_features=1, bias=True)\n",
       ")"
      ]
     },
     "execution_count": 6,
     "metadata": {},
     "output_type": "execute_result"
    }
   ],
   "source": [
    "m = EncoderDecoder(g.vectors, word_emb_size=g.dim, sen_emb_size=150, doc_emb_size=200, sen_len=50, batch_size=20, output_dim=1)\n",
    "m.cuda()"
   ]
  },
  {
   "cell_type": "code",
   "execution_count": null,
   "metadata": {},
   "outputs": [],
   "source": [
    "train_classifier(model=m, lines=d.lines, output=d.output, batches=d.batches, iterations=10)\n",
    "torch.save(m.state_dict(), 'parameters')"
   ]
  },
  {
   "cell_type": "markdown",
   "metadata": {},
   "source": [
    "**RUN FROM HERE FOR TESTING**"
   ]
  },
  {
   "cell_type": "code",
   "execution_count": 171,
   "metadata": {
    "collapsed": true
   },
   "outputs": [],
   "source": [
    "%run model.ipynb\n",
    "%run utils.ipynb"
   ]
  },
  {
   "cell_type": "code",
   "execution_count": 140,
   "metadata": {
    "collapsed": true
   },
   "outputs": [],
   "source": [
    "m.load_state_dict(torch.load('parameters'))"
   ]
  },
  {
   "cell_type": "code",
   "execution_count": 141,
   "metadata": {},
   "outputs": [],
   "source": [
    "d = NeuralSumDataHandler()\n",
    "d.load_padded_dump(CONFIG.CNN_PADDED_TEST_DUMP)\n",
    "d.make_batches(20)\n",
    "g = NeuralSumGlove(dump_filename=CONFIG.GLOVE_CACHE_FILENAME)"
   ]
  },
  {
   "cell_type": "code",
   "execution_count": 142,
   "metadata": {},
   "outputs": [
    {
     "data": {
      "text/plain": [
       "EncoderDecoder(\n",
       "  (sentenceEncoder): LSTMSentenceEncoderParallel(\n",
       "    (embeddings): Embedding(400001, 100, padding_idx=400000)\n",
       "    (sentenceEncoder): LSTM(100, 150, batch_first=True)\n",
       "  )\n",
       "  (documentEncoder): LSTM(150, 200, batch_first=True)\n",
       "  (documentDecoder): LSTM(150, 200, batch_first=True)\n",
       "  (classifier): Linear(in_features=200, out_features=1, bias=True)\n",
       ")"
      ]
     },
     "execution_count": 142,
     "metadata": {},
     "output_type": "execute_result"
    }
   ],
   "source": [
    "m = EncoderDecoder(g.vectors, word_emb_size=g.dim, sen_emb_size=150, doc_emb_size=200, sen_len=50, batch_size=20, output_dim=1)\n",
    "m.cuda()"
   ]
  },
  {
   "cell_type": "code",
   "execution_count": 172,
   "metadata": {},
   "outputs": [],
   "source": [
    "get_summaries(m, d.lines, d.batches, doc_folder=CONFIG.CNN_TEST_DOCUMENTS_FOLDER, write_folder=CONFIG.PREDICTED_SUMMARY_FOLDER)"
   ]
  },
  {
   "cell_type": "code",
   "execution_count": 178,
   "metadata": {},
   "outputs": [
    {
     "name": "stdout",
     "output_type": "stream",
     "text": [
      "tensor([ 9,  0, 10], device='cuda:0')\n",
      "they were led by a man wearing a \" @entity50 \" t - shirt who shouted , \" this is what democracy looks like ! \" @entity11 's shooting stirred memories of the @entity54 case in @entity55 , @entity56 , where an unarmed black teenager was killed by a white police officer\n",
      "the officer charged with murder in the shooting death of an unarmed black man in @entity5 has been fired as anger continues to build around his case\n",
      "a grand jury declined to indict the officer in that case\n",
      "\n"
     ]
    }
   ],
   "source": [
    "get_summary(100, CONFIG.PREDICTED_SUMMARY_FOLDER)"
   ]
  },
  {
   "cell_type": "code",
   "execution_count": 183,
   "metadata": {},
   "outputs": [
    {
     "name": "stdout",
     "output_type": "stream",
     "text": [
      "witness who took the video says \" mr. @entity11 did n't deserve this \"\n",
      "@entity22 police officer @entity9 is fired\n",
      "the city orders an additional 150 body cameras\n",
      "\n"
     ]
    }
   ],
   "source": [
    "get_summary(100, CONFIG.CNN_TEST_SUMMARY_FOLDER)"
   ]
  },
  {
   "cell_type": "code",
   "execution_count": null,
   "metadata": {
    "collapsed": true
   },
   "outputs": [],
   "source": []
  }
 ],
 "metadata": {
  "kernelspec": {
   "display_name": "refresh",
   "language": "python",
   "name": "refresh"
  },
  "language_info": {
   "codemirror_mode": {
    "name": "ipython",
    "version": 3
   },
   "file_extension": ".py",
   "mimetype": "text/x-python",
   "name": "python",
   "nbconvert_exporter": "python",
   "pygments_lexer": "ipython3",
   "version": "3.5.2"
  }
 },
 "nbformat": 4,
 "nbformat_minor": 2
}
