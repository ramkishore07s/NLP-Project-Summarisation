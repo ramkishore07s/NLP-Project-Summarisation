{
 "cells": [
  {
   "cell_type": "code",
   "execution_count": 6,
   "metadata": {
    "collapsed": true
   },
   "outputs": [],
   "source": [
    "import torch\n",
    "import torch.nn as nn\n",
    "import torch.optim as optim"
   ]
  },
  {
   "cell_type": "code",
   "execution_count": 3,
   "metadata": {
    "collapsed": true
   },
   "outputs": [],
   "source": [
    "import matplotlib.pyplot as plt"
   ]
  },
  {
   "cell_type": "code",
   "execution_count": 4,
   "metadata": {
    "collapsed": true
   },
   "outputs": [],
   "source": [
    "def train_classifier(model, lines, output, batches, iterations=1):\n",
    "    errors = []\n",
    "    lossfunc = nn.BCELoss()\n",
    "    optimizer = optim.Adagrad(model.parameters())\n",
    "    for _ in range(iterations):\n",
    "        for batch in batches:\n",
    "            try:\n",
    "                if len(batch) == 20:\n",
    "                    input = torch.cuda.LongTensor([lines[n] for n in batch])\n",
    "                    truth = torch.cuda.FloatTensor([output[n] for n in batch])\n",
    "                    truth[truth == 2] = 0\n",
    "                    pred = model(input)\n",
    "                    model.zero_grad()\n",
    "                    loss = lossfunc(pred, truth)\n",
    "                    loss.backward()\n",
    "                    optimizer.step()\n",
    "                    errors.append(loss.data)\n",
    "            except:\n",
    "                print('ad')\n",
    "            print(batches.index(batch), end='\\r')\n",
    "            plt.plot(errors)"
   ]
  },
  {
   "cell_type": "code",
   "execution_count": null,
   "metadata": {
    "collapsed": true
   },
   "outputs": [],
   "source": [
    "def get_rouge_r1(summary_folder, document_folder, docid, pred):\n",
    "    s = {}\n",
    "    with open(summary_folder + str(docid)) as f:\n",
    "        summary = f.readlines()\n",
    "        for line in summary:\n",
    "            words = line.split()\n",
    "            for word in words:\n",
    "                if word in s: s[word] += 1\n",
    "                else: s[word] = 1\n",
    "\n",
    "    pred_summary_words = []\n",
    "    with open(document_folder + str(docid)) as f:\n",
    "        lines = f.readlines()\n",
    "        for line, pred_ in zip(lines, pred):\n",
    "            if pred_ == 1:\n",
    "                pred_summary_words.extend(line.split())\n",
    "    \n",
    "    "
   ]
  },
  {
   "cell_type": "code",
   "execution_count": 5,
   "metadata": {
    "collapsed": true
   },
   "outputs": [],
   "source": [
    "def get_summaries(model, lines_, batches, doc_folder, write_folder):\n",
    "    for batch in batches:\n",
    "        input = torch.cuda.LongTensor([lines_[n] for n in batch])\n",
    "        pred = model(input)\n",
    "        _idx = torch.sort(pred, descending=True)[1].data\n",
    "        for lines, docid in zip(_idx, batch):\n",
    "            with open(doc_folder + str(docid)) as f:\n",
    "                content = f.readlines()\n",
    "                selected_lines = [content[l] for l in lines[0:3]]\n",
    "                with open(write_folder + str(docid), 'w+') as f2:\n",
    "                    f2.write(str(lines[0:3]) + '\\n')\n",
    "                    [f2.write(line) for line in selected_lines]"
   ]
  },
  {
   "cell_type": "code",
   "execution_count": null,
   "metadata": {
    "collapsed": true
   },
   "outputs": [],
   "source": [
    "def get_file(doc_id, write_folder):\n",
    "    print(open(write_folder + str(doc_id)).read())"
   ]
  },
  {
   "cell_type": "code",
   "execution_count": null,
   "metadata": {
    "collapsed": true
   },
   "outputs": [],
   "source": [
    "def computeRouge(folder1, folder2):\n",
    "    # rouge_args=\"-e /home/ramkishore.s/ROUGE-1.5.5/data/ -a -c 95 -m -n 2 -w 1.2\"\n",
    "    from pyrouge import Rouge155\n",
    "    r = Rouge155()\n",
    "    r.system_dir = folder1\n",
    "    r.model_dir = folder2\n",
    "    r.system_filename_pattern = '(\\d+)'\n",
    "    r.model_filename_pattern = '#ID#'\n",
    "\n",
    "    output = r.convert_and_evaluate()\n",
    "    output = r.output_to_dict(output)\n",
    "    return output['rouge_1_f_score_ce'], output['rouge_2_f_score_ce'], output['rouge_l_f_score_ce']"
   ]
  }
 ],
 "metadata": {
  "kernelspec": {
   "display_name": "refresh",
   "language": "python",
   "name": "refresh"
  },
  "language_info": {
   "codemirror_mode": {
    "name": "ipython",
    "version": 3
   },
   "file_extension": ".py",
   "mimetype": "text/x-python",
   "name": "python",
   "nbconvert_exporter": "python",
   "pygments_lexer": "ipython3",
   "version": "3.5.2"
  }
 },
 "nbformat": 4,
 "nbformat_minor": 2
}
