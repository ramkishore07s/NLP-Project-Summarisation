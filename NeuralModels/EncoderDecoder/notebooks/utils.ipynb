{
 "cells": [
  {
   "cell_type": "code",
   "execution_count": 1,
   "metadata": {
    "collapsed": true
   },
   "outputs": [],
   "source": [
    "import torch\n",
    "import torch.nn as nn\n",
    "import torch.optim as optim"
   ]
  },
  {
   "cell_type": "code",
   "execution_count": 3,
   "metadata": {
    "collapsed": true
   },
   "outputs": [],
   "source": [
    "import matplotlib.pyplot as plt"
   ]
  },
  {
   "cell_type": "code",
   "execution_count": 4,
   "metadata": {
    "collapsed": true
   },
   "outputs": [],
   "source": [
    "def train_classifier(model, lines, output, batches, iterations=1):\n",
    "    errors = []\n",
    "    lossfunc = nn.BCELoss()\n",
    "    optimizer = optim.Adagrad(model.parameters())\n",
    "    for _ in range(iterations):\n",
    "        for batch in batches:\n",
    "            try:\n",
    "                if len(batch) == 20:\n",
    "                    input = torch.cuda.LongTensor([lines[n] for n in batch])\n",
    "                    truth = torch.cuda.FloatTensor([output[n] for n in batch])\n",
    "                    truth[truth == 2] = 0\n",
    "                    pred = model(input)\n",
    "                    model.zero_grad()\n",
    "                    loss = lossfunc(pred, truth)\n",
    "                    loss.backward()\n",
    "                    optimizer.step()\n",
    "                    errors.append(loss.data)\n",
    "            except:\n",
    "                print('ad')\n",
    "            print(batches.index(batch), end='\\r')\n",
    "            plt.plot(errors)"
   ]
  },
  {
   "cell_type": "code",
   "execution_count": 5,
   "metadata": {
    "collapsed": true
   },
   "outputs": [],
   "source": [
    "def get_summaries(model, lines_, batches, doc_folder, write_folder):\n",
    "    for batch in batches:\n",
    "        input = torch.cuda.LongTensor([lines_[n] for n in batch])\n",
    "        pred = model(input)\n",
    "        _idx = torch.sort(pred)[1].data\n",
    "        for lines, docid in zip(_idx, batch):\n",
    "            with open(doc_folder + str(docid)) as f:\n",
    "                content = f.readlines()\n",
    "                selected_lines = [content[l] for l in lines[0:3]]\n",
    "                with open(write_folder + str(docid), 'w+') as f2:\n",
    "                    f2.write(str(lines[0:3]) + '\\n')\n",
    "                    [f2.write(line) for line in selected_lines]"
   ]
  },
  {
   "cell_type": "code",
   "execution_count": null,
   "metadata": {
    "collapsed": true
   },
   "outputs": [],
   "source": [
    "def get_summary(doc_id, write_folder):\n",
    "    print(open(write_folder + str(doc_id)).read())"
   ]
  }
 ],
 "metadata": {
  "kernelspec": {
   "display_name": "refresh",
   "language": "python",
   "name": "refresh"
  },
  "language_info": {
   "codemirror_mode": {
    "name": "ipython",
    "version": 3
   },
   "file_extension": ".py",
   "mimetype": "text/x-python",
   "name": "python",
   "nbconvert_exporter": "python",
   "pygments_lexer": "ipython3",
   "version": "3.5.2"
  }
 },
 "nbformat": 4,
 "nbformat_minor": 2
}
