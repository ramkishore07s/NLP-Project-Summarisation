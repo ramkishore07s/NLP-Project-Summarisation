{
 "cells": [
  {
   "cell_type": "markdown",
   "metadata": {},
   "source": [
    "# **Feature Extraction** for **Extractive Summarisation**\n",
    "# **For Logistic Regression and Naive Bayes**\n",
    "**Features Considered for each line:**\n",
    "* Number of Verbs (POS)\n",
    "* Number of Stop words (nltk stop word list)\n",
    "* Number of Named Entities\n",
    "* Number of Pronouns (POS)\n",
    "* Position in document \n",
    "* Sentence Length\n",
    "\n",
    "** May include in Future:**\n",
    "* Discourse Cues\n",
    "* Sentiment\n",
    "* Salience\n",
    "* Uniqueness\n",
    "* Has Money"
   ]
  },
  {
   "cell_type": "markdown",
   "metadata": {},
   "source": [
    "## Contents\n",
    "\n",
    "* Parsing raw data\n",
    "* POS tagging\n",
    "* Stop words\n",
    "* Count Named Entities"
   ]
  },
  {
   "cell_type": "code",
   "execution_count": null,
   "metadata": {
    "collapsed": true
   },
   "outputs": [],
   "source": [
    "import os\n",
    "import numpy as np\n",
    "import json\n",
    "import nltk"
   ]
  },
  {
   "cell_type": "code",
   "execution_count": null,
   "metadata": {
    "collapsed": true
   },
   "outputs": [],
   "source": [
    "nltk.download('tagsets')\n",
    "nltk.download('stopwords')"
   ]
  },
  {
   "cell_type": "code",
   "execution_count": null,
   "metadata": {
    "collapsed": true
   },
   "outputs": [],
   "source": [
    "from paths import *"
   ]
  },
  {
   "cell_type": "code",
   "execution_count": null,
   "metadata": {
    "collapsed": true
   },
   "outputs": [],
   "source": [
    "TRAIN = os.listdir(DATASET_FOLDER + 'all/training/')\n",
    "DEV = os.listdir(DATASET_FOLDER + 'all/validation/')\n",
    "TEST = os.listdir(DATASET_FOLDER + 'all/test/')\n",
    "TRAIN_FOLDER = DATASET_FOLDER + 'all/training/'\n",
    "DEV_FOLDER = DATASET_FOLDER + 'all/validation/'\n",
    "TEST_FOLDER = DATASET_FOLDER + 'all/test/'"
   ]
  },
  {
   "cell_type": "code",
   "execution_count": null,
   "metadata": {
    "collapsed": true
   },
   "outputs": [],
   "source": [
    "len(TRAIN), len(TEST), len(DEV)"
   ]
  },
  {
   "cell_type": "code",
   "execution_count": null,
   "metadata": {
    "collapsed": true
   },
   "outputs": [],
   "source": [
    "# folders for abstract summaries\n",
    "os.mkdir(SUMMARY_FOLDER)\n",
    "os.mkdir(SUMMARY_FOLDER + 'train/')\n",
    "os.mkdir(SUMMARY_FOLDER + 'test')\n",
    "os.mkdir(SUMMARY_FOLDER + 'dev/')\n",
    "\n",
    "# folders for actual text\n",
    "os.mkdir(TEXT_FOLDER)\n",
    "os.mkdir(TEXT_FOLDER + 'train/')\n",
    "os.mkdir(TEXT_FOLDER + 'test/')\n",
    "os.mkdir(TEXT_FOLDER + 'dev/')\n",
    "\n",
    "# folders for outputs\n",
    "os.mkdir(OUTPUT_FOLDER)\n",
    "os.mkdir(OUTPUT_FOLDER + 'train/')\n",
    "os.mkdir(OUTPUT_FOLDER + 'test/')\n",
    "os.mkdir(OUTPUT_FOLDER + 'dev/')\n",
    "\n",
    "# folders for POS tags\n",
    "os.mkdir(TAGS_FOLDER)\n",
    "os.mkdir(TAGS_FOLDER + 'train/')\n",
    "os.mkdir(TAGS_FOLDER + 'test/')\n",
    "os.mkdir(TAGS_FOLDER + 'dev/')\n",
    "\n",
    "# folders for stop counts\n",
    "os.mkdir(STOPS_FOLDER)\n",
    "os.mkdir(STOPS_FOLDER + 'train')\n",
    "os.mkdir(STOPS_FOLDER + 'test')\n",
    "os.mkdir(STOPS_FOLDER + 'dev')"
   ]
  },
  {
   "cell_type": "markdown",
   "metadata": {},
   "source": [
    "## Model dataset file:\n",
    "\n",
    "### Introduction\n",
    "\n",
    "This dataset contains CNN and Dailymail articles used for training a summarization system. The script used to create the dataset is modified from the release of Hermann et al. 2015.\n",
    "\n",
    "### Format:\n",
    "\n",
    "Each file contains four parts separated by ‘\\n\\n’. They are\n",
    "* url of the original article;\n",
    "* sentences in the article and their labels (for sentence-based extractive summarization);\n",
    "* extractable highlights (for word extraction-based abstractive summarization);\n",
    "* named entity mapping.\n",
    "\n",
    "### Sentence labels\n",
    "\n",
    "There are three labels for the sentences: 1, 2 and 0. \n",
    "* ** 1 **—-sentence should extracted; \n",
    "* ** 2 **--sentence might be extracted; \n",
    "* ** 0 **—-sentence shouldn't be extracted.\n",
    "\n",
    "### Extractable highlights\n",
    "\n",
    "The extractable highlights are created by examining if a word (or its morphological transformation) in the highlight appears in the article or a general purpose stop-word list, which together constitute the output space (i.e., the allowed vocabulary during summary generation)."
   ]
  },
  {
   "cell_type": "markdown",
   "metadata": {},
   "source": [
    "## Loading all the Data to process"
   ]
  },
  {
   "cell_type": "code",
   "execution_count": null,
   "metadata": {
    "collapsed": true
   },
   "outputs": [],
   "source": [
    "entities = {}\n",
    "docs = []"
   ]
  },
  {
   "cell_type": "code",
   "execution_count": null,
   "metadata": {
    "collapsed": true
   },
   "outputs": [],
   "source": [
    "def file_parse(file):\n",
    "    global entities\n",
    "    # generating data\n",
    "    \n",
    "    contents = file.read()\n",
    "    parts = contents.split('\\n\\n')\n",
    "    lines = parts[1].split('\\n')\n",
    "    output = [int(line[-1]) for line in lines]\n",
    "    lines = [line[:-1].rstrip() for line in lines]\n",
    "    \n",
    "    # storing entities\n",
    "    entity_map = parts[3].split('\\n')\n",
    "    for i in entity_map:\n",
    "        id, name = i.split(\":\")[:2]\n",
    "        entities[id] = name\n",
    "    file.close()\n",
    "    return {\"lines\": lines, \"output\": output, \"summary\": parts[2].split('\\n')}"
   ]
  },
  {
   "cell_type": "code",
   "execution_count": null,
   "metadata": {
    "collapsed": true
   },
   "outputs": [],
   "source": [
    "def get_processed_files(folder, file_names):\n",
    "    docs = []\n",
    "    summaries = []\n",
    "    for file in file_names:\n",
    "        try:\n",
    "            docs.append(file_parse(open(folder + file)))\n",
    "        except ValueError:\n",
    "            pass\n",
    "    return docs"
   ]
  },
  {
   "cell_type": "code",
   "execution_count": null,
   "metadata": {
    "collapsed": true
   },
   "outputs": [],
   "source": [
    "TRAIN = get_processed_files(TRAIN_FOLDER, TRAIN)"
   ]
  },
  {
   "cell_type": "code",
   "execution_count": null,
   "metadata": {
    "collapsed": true
   },
   "outputs": [],
   "source": [
    "TEST = get_processed_files(TEST_FOLDER, TEST)\n",
    "DEV = get_processed_files(DEV_FOLDER, DEV)"
   ]
  },
  {
   "cell_type": "code",
   "execution_count": null,
   "metadata": {
    "collapsed": true
   },
   "outputs": [],
   "source": [
    "def write_files(target_folder, string, docs, filename_pattern=None):\n",
    "    if not filename_pattern: filename_pattern = string\n",
    "    for doc, index in zip(docs, range(len(docs))):\n",
    "        with open(target_folder + filename_pattern + '.' + str(index) + '.txt', 'w+') as file:\n",
    "            for line in doc[string]:\n",
    "                file.write(str(line))\n",
    "                file.write('\\n')"
   ]
  },
  {
   "cell_type": "code",
   "execution_count": null,
   "metadata": {
    "collapsed": true
   },
   "outputs": [],
   "source": [
    "write_files(SUMMARY_FOLDER + 'train/', 'summary', TRAIN)\n",
    "write_files(SUMMARY_FOLDER + 'test/', 'summary', TEST)\n",
    "write_files(SUMMARY_FOLDER + 'dev/', 'summary', DEV)"
   ]
  },
  {
   "cell_type": "code",
   "execution_count": null,
   "metadata": {
    "collapsed": true
   },
   "outputs": [],
   "source": [
    "write_files(TEXT_FOLDER + 'train/', 'lines', TRAIN, 'doc')\n",
    "write_files(TEXT_FOLDER + 'test/', 'lines', TEST, 'doc')\n",
    "write_files(TEXT_FOLDER + 'dev/', 'lines', DEV, 'doc')"
   ]
  },
  {
   "cell_type": "code",
   "execution_count": null,
   "metadata": {
    "collapsed": true
   },
   "outputs": [],
   "source": [
    "write_files(OUTPUT_FOLDER + 'train/', 'output', TRAIN, 'output')\n",
    "write_files(OUTPUT_FOLDER + 'test/', 'output', TEST, 'output')\n",
    "write_files(OUTPUT_FOLDER + 'dev/', 'output', DEV, 'output')"
   ]
  },
  {
   "cell_type": "markdown",
   "metadata": {},
   "source": [
    "## POS data\n",
    "\n",
    "**NOTE: Since we only using primitive information like number of verbs, number of pronouns etc, we don't need accurate tags. So we simply use the most probable tag for each word. This reduces the computation time required for POS tagging**"
   ]
  },
  {
   "cell_type": "code",
   "execution_count": null,
   "metadata": {
    "collapsed": true
   },
   "outputs": [],
   "source": [
    "TAGS = {}\n",
    "CACHED_TAGS = {}"
   ]
  },
  {
   "cell_type": "code",
   "execution_count": null,
   "metadata": {
    "collapsed": true
   },
   "outputs": [],
   "source": [
    "def cache(word):\n",
    "    if word not in CACHED_TAGS:\n",
    "        CACHED_TAGS[word] = nltk.pos_tag([word])[0][1]\n",
    "    return CACHED_TAGS[word]"
   ]
  },
  {
   "cell_type": "code",
   "execution_count": null,
   "metadata": {
    "collapsed": true
   },
   "outputs": [],
   "source": [
    "TRAIN_TAGS = []\n",
    "TEST_TAGS = []\n",
    "DEV_TAGS = []"
   ]
  },
  {
   "cell_type": "code",
   "execution_count": null,
   "metadata": {
    "collapsed": true
   },
   "outputs": [],
   "source": [
    "def tag_data(raw, final):\n",
    "    for doc in raw:\n",
    "        dic = []\n",
    "        for line in doc['lines']:\n",
    "            l = []\n",
    "            for word in line.split():\n",
    "                tag = cache(word)\n",
    "                l.append(tag)\n",
    "            dic.append(l)\n",
    "        final.append(dic)"
   ]
  },
  {
   "cell_type": "code",
   "execution_count": null,
   "metadata": {
    "collapsed": true
   },
   "outputs": [],
   "source": [
    "tag_data(TRAIN, TRAIN_TAGS)\n",
    "tag_data(TEST, TEST_TAGS)\n",
    "tag_data(DEV, DEV_TAGS)"
   ]
  },
  {
   "cell_type": "code",
   "execution_count": null,
   "metadata": {
    "collapsed": true
   },
   "outputs": [],
   "source": [
    "def write(target_folder, filename_pattern, docs):\n",
    "    for doc, index in zip(docs, range(len(docs))):\n",
    "        with open(target_folder + filename_pattern + '.' + str(index) + '.txt', 'w+') as file:\n",
    "            for line in doc:\n",
    "                for tag in line:\n",
    "                    file.write(str(tag))\n",
    "                    file.write(' ')\n",
    "                file.write('\\n')"
   ]
  },
  {
   "cell_type": "code",
   "execution_count": null,
   "metadata": {
    "collapsed": true
   },
   "outputs": [],
   "source": [
    "write(TAGS_FOLDER + 'train/', 'tags', TRAIN_TAGS)"
   ]
  },
  {
   "cell_type": "code",
   "execution_count": null,
   "metadata": {
    "collapsed": true
   },
   "outputs": [],
   "source": [
    "write(TAGS_FOLDER + 'test/', 'tags', TEST_TAGS)\n",
    "write(TAGS_FOLDER + 'dev/', 'tags', DEV_TAGS)"
   ]
  },
  {
   "cell_type": "code",
   "execution_count": null,
   "metadata": {
    "collapsed": true
   },
   "outputs": [],
   "source": [
    "del TRAIN_TAGS, TEST_TAGS, DEV_TAGS, TAGS, CACHED_TAGS"
   ]
  },
  {
   "cell_type": "markdown",
   "metadata": {},
   "source": [
    "## Stop words"
   ]
  },
  {
   "cell_type": "code",
   "execution_count": null,
   "metadata": {
    "collapsed": true
   },
   "outputs": [],
   "source": [
    "from nltk.corpus import stopwords"
   ]
  },
  {
   "cell_type": "code",
   "execution_count": null,
   "metadata": {
    "collapsed": true
   },
   "outputs": [],
   "source": [
    "STOPWORDS = set(stopwords.words('english'))"
   ]
  },
  {
   "cell_type": "code",
   "execution_count": null,
   "metadata": {
    "collapsed": true
   },
   "outputs": [],
   "source": [
    "def count_stops(data):\n",
    "    final = []\n",
    "    for doc in data:\n",
    "        stops = []\n",
    "        for line in doc['lines']:\n",
    "            count = 0\n",
    "            for word in line.split():\n",
    "                if word.lower() in STOPWORDS: count += 1\n",
    "            stops.append(count)\n",
    "        final.append(stops)\n",
    "    return final"
   ]
  },
  {
   "cell_type": "code",
   "execution_count": null,
   "metadata": {
    "collapsed": true
   },
   "outputs": [],
   "source": [
    "TRAIN_STOPS = count_stops(TRAIN)\n",
    "TEST_STOPS = count_stops(TEST)\n"
   ]
  },
  {
   "cell_type": "code",
   "execution_count": null,
   "metadata": {
    "collapsed": true
   },
   "outputs": [],
   "source": [
    "DEV_STOPS = count_stops(DEV)"
   ]
  },
  {
   "cell_type": "code",
   "execution_count": null,
   "metadata": {
    "collapsed": true
   },
   "outputs": [],
   "source": [
    "def write(target_folder, filename_pattern, docs):\n",
    "    for doc, index in zip(docs, range(len(docs))):\n",
    "        with open(target_folder + filename_pattern + '.' + str(index) + '.txt', 'w+') as file:\n",
    "            for line in doc:\n",
    "                file.write(str(line))\n",
    "                file.write('\\n')"
   ]
  },
  {
   "cell_type": "code",
   "execution_count": null,
   "metadata": {
    "collapsed": true
   },
   "outputs": [],
   "source": [
    "write(STOPS_FOLDER + 'train/', 'stop_counts', TRAIN_STOPS)\n",
    "write(STOPS_FOLDER + 'test/', 'stop_counts', TEST_STOPS)"
   ]
  },
  {
   "cell_type": "code",
   "execution_count": null,
   "metadata": {
    "collapsed": true
   },
   "outputs": [],
   "source": [
    "write(STOPS_FOLDER + 'dev/', 'stop_counts', DEV_STOPS)"
   ]
  },
  {
   "cell_type": "code",
   "execution_count": null,
   "metadata": {
    "collapsed": true
   },
   "outputs": [],
   "source": [
    "del TRAIN_STOPS, TEST_STOPS, DEV_STOPS"
   ]
  }
 ],
 "metadata": {
  "kernelspec": {
   "display_name": "py3",
   "language": "python",
   "name": "py3"
  },
  "language_info": {
   "codemirror_mode": {
    "name": "ipython",
    "version": 3
   },
   "file_extension": ".py",
   "mimetype": "text/x-python",
   "name": "python",
   "nbconvert_exporter": "python",
   "pygments_lexer": "ipython3",
   "version": "3.5.2"
  }
 },
 "nbformat": 4,
 "nbformat_minor": 2
}
