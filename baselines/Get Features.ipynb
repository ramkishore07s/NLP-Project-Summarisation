{
 "cells": [
  {
   "cell_type": "markdown",
   "metadata": {},
   "source": [
    "# **Helper functions** for **Loading various features**"
   ]
  },
  {
   "cell_type": "code",
   "execution_count": 1,
   "metadata": {
    "collapsed": true
   },
   "outputs": [],
   "source": [
    "import os"
   ]
  },
  {
   "cell_type": "code",
   "execution_count": 10,
   "metadata": {
    "collapsed": true
   },
   "outputs": [],
   "source": [
    "from paths import *"
   ]
  },
  {
   "cell_type": "code",
   "execution_count": 11,
   "metadata": {
    "collapsed": true
   },
   "outputs": [],
   "source": [
    "SUB_FOLDERS = {0: 'train/', 1: 'test/', 2: 'dev/'}"
   ]
  },
  {
   "cell_type": "code",
   "execution_count": 73,
   "metadata": {
    "collapsed": true
   },
   "outputs": [],
   "source": [
    "def get_tag_counts(start=0, end=None, strings=['P', 'V'], type_=0):\n",
    "    '''\n",
    "    type_ = {0: 'train/', 1: 'test/', 2: 'dev/'}\n",
    "    '''\n",
    "    sub_folder = SUB_FOLDERS[type_]\n",
    "    if not end: \n",
    "        end = len(os.listdir(TAGS_FOLDER + sub_folder))\n",
    "    counts = [[] for _ in strings]\n",
    "    mapping = {i.upper(): j for j, i in enumerate(strings)}\n",
    "    \n",
    "    for i in range(start, end):\n",
    "        with open(TAGS_FOLDER + sub_folder + 'tags.' + str(i) + '.txt') as f:\n",
    "            lines = f.readlines()\n",
    "            for i in range(len(counts)):\n",
    "                counts[i].append([0 for _ in lines])\n",
    "            for i, line in enumerate(lines):\n",
    "                for tag in line.split():\n",
    "                    if tag[0] in mapping:\n",
    "                        counts[mapping[tag[0]]][-1][i] += 1\n",
    "    return counts"
   ]
  },
  {
   "cell_type": "code",
   "execution_count": 43,
   "metadata": {},
   "outputs": [],
   "source": [
    "def get_entity_word_counts_and_position(start=0, end=None, type_=0):\n",
    "    '''\n",
    "    type_ = {0: 'train/', 1: 'test/', 2: 'dev/'}\n",
    "    '''\n",
    "    sub_folder = SUB_FOLDERS[type_]\n",
    "    if not end: \n",
    "        end = len(os.listdir(TAGS_FOLDER + sub_folder))\n",
    "    entity_counts = []\n",
    "    word_counts = []\n",
    "    position = []\n",
    "    for i in range(start, end):\n",
    "        with open(TEXT_FOLDER + sub_folder + 'doc.' + str(i) + '.txt') as f:\n",
    "            lines = f.readlines()\n",
    "            entity_counts.append([line.count('@') for line in lines])\n",
    "            word_counts.append([line.count(' ') for line in lines])        \n",
    "            position.append(list(range(1, len(lines) + 1)))\n",
    "    return entity_counts, word_counts, position"
   ]
  },
  {
   "cell_type": "code",
   "execution_count": 49,
   "metadata": {
    "collapsed": true
   },
   "outputs": [],
   "source": [
    "def get_stop_counts(start=0, end=None, type_=0):\n",
    "    sub_folder = SUB_FOLDERS[type_]\n",
    "    if not end: \n",
    "        end = len(os.listdir(TAGS_FOLDER + sub_folder))\n",
    "    counts = []\n",
    "    for i in range(start, end):\n",
    "        with open(STOPS_FOLDER + sub_folder + 'stop_counts.' + str(i) + '.txt') as f:\n",
    "            lines = f.readlines()\n",
    "            counts.append([int(line) for line in lines])\n",
    "    return counts"
   ]
  },
  {
   "cell_type": "code",
   "execution_count": 76,
   "metadata": {
    "collapsed": true
   },
   "outputs": [],
   "source": [
    "def get_outputs(start=0, end=None, type_=0):\n",
    "    sub_folder = SUB_FOLDERS[type_]\n",
    "    if not end: \n",
    "        end = len(os.listdir(TAGS_FOLDER + sub_folder))\n",
    "    counts = []\n",
    "    for i in range(start, end):\n",
    "        with open(OUTPUT_FOLDER + sub_folder + 'output.' + str(i) + '.txt') as f:\n",
    "            lines = f.readlines()\n",
    "            counts.append([int(line) for line in lines])\n",
    "    return counts"
   ]
  },
  {
   "cell_type": "code",
   "execution_count": 75,
   "metadata": {
    "collapsed": true
   },
   "outputs": [],
   "source": [
    "def get_all(start=0, end=None, type_=0):\n",
    "    sub_folder = SUB_FOLDERS[type_]\n",
    "    if not end: \n",
    "        end = len(os.listdir(TAGS_FOLDER + sub_folder))\n",
    "    pronoun, verbs = get_tag_counts(start, end)\n",
    "    print('loaded tags')\n",
    "    entity_counts, sen_len, sen_pos = get_entity_word_counts_and_position(start, end)\n",
    "    print('loaded doc metadata')\n",
    "    stop_counts = get_stop_counts(start, end)\n",
    "    print('loaded stop counts')\n",
    "    outputs = get_outputs(start, end)\n",
    "    print('loaded outputs')\n",
    "    \n",
    "    return pronoun, verbs, entity_counts, sen_len, sen_pos, stop_counts, outputs"
   ]
  }
 ],
 "metadata": {
  "kernelspec": {
   "display_name": "py3",
   "language": "python",
   "name": "py3"
  },
  "language_info": {
   "codemirror_mode": {
    "name": "ipython",
    "version": 3
   },
   "file_extension": ".py",
   "mimetype": "text/x-python",
   "name": "python",
   "nbconvert_exporter": "python",
   "pygments_lexer": "ipython3",
   "version": "3.5.2"
  }
 },
 "nbformat": 4,
 "nbformat_minor": 2
}
