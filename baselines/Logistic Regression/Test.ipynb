{
 "cells": [
  {
   "cell_type": "code",
   "execution_count": 1,
   "metadata": {
    "collapsed": true
   },
   "outputs": [],
   "source": [
    "%run '../Get Features.ipynb'"
   ]
  },
  {
   "cell_type": "code",
   "execution_count": 2,
   "metadata": {
    "collapsed": true
   },
   "outputs": [],
   "source": [
    "import torch\n",
    "import numpy as np"
   ]
  },
  {
   "cell_type": "code",
   "execution_count": 3,
   "metadata": {
    "collapsed": true
   },
   "outputs": [],
   "source": [
    "from model import LogisticRegression"
   ]
  },
  {
   "cell_type": "code",
   "execution_count": 4,
   "metadata": {
    "collapsed": true
   },
   "outputs": [],
   "source": [
    "l = LogisticRegression()"
   ]
  },
  {
   "cell_type": "code",
   "execution_count": 5,
   "metadata": {
    "collapsed": true
   },
   "outputs": [],
   "source": [
    "l.load_state_dict(torch.load('log_reg_weights'))"
   ]
  },
  {
   "cell_type": "code",
   "execution_count": 6,
   "metadata": {},
   "outputs": [
    {
     "data": {
      "text/plain": [
       "Parameter containing:\n",
       "tensor([[-0.0314,  0.0351,  0.2298,  0.0790, -0.0399, -0.0883]], requires_grad=True)"
      ]
     },
     "execution_count": 6,
     "metadata": {},
     "output_type": "execute_result"
    }
   ],
   "source": [
    "l.weights.weight"
   ]
  },
  {
   "cell_type": "code",
   "execution_count": 7,
   "metadata": {
    "collapsed": true
   },
   "outputs": [],
   "source": [
    "a = 'pronoun, verbs, entity_counts, sen_len, sen_pos, stop_count'.split(',')"
   ]
  },
  {
   "cell_type": "markdown",
   "metadata": {},
   "source": [
    "## Features and corresponding weights"
   ]
  },
  {
   "cell_type": "code",
   "execution_count": 8,
   "metadata": {},
   "outputs": [
    {
     "data": {
      "text/plain": [
       "[('pronoun', -0.03144964),\n",
       " (' verbs', 0.03505763),\n",
       " (' entity_counts', 0.22977456),\n",
       " (' sen_len', 0.07900084),\n",
       " (' sen_pos', -0.03990756),\n",
       " (' stop_count', -0.088265166)]"
      ]
     },
     "execution_count": 8,
     "metadata": {},
     "output_type": "execute_result"
    }
   ],
   "source": [
    "list(zip(a, l.weights.weight.data.numpy()[0]))"
   ]
  },
  {
   "cell_type": "markdown",
   "metadata": {},
   "source": [
    "## Testing on Test Set"
   ]
  },
  {
   "cell_type": "code",
   "execution_count": 9,
   "metadata": {},
   "outputs": [
    {
     "name": "stdout",
     "output_type": "stream",
     "text": [
      "loaded tags\n",
      "loaded doc metadata\n",
      "loaded stop counts\n",
      "loaded outputs\n"
     ]
    }
   ],
   "source": [
    "a = get_all(type_=2)"
   ]
  },
  {
   "cell_type": "code",
   "execution_count": 10,
   "metadata": {
    "collapsed": true
   },
   "outputs": [],
   "source": [
    "input = torch.t(torch.Tensor([np.hstack(i) for i in a[:-1]]))"
   ]
  },
  {
   "cell_type": "code",
   "execution_count": 11,
   "metadata": {
    "collapsed": true
   },
   "outputs": [],
   "source": [
    "output = torch.Tensor(np.hstack(a[-1])).unsqueeze(1)"
   ]
  },
  {
   "cell_type": "code",
   "execution_count": 12,
   "metadata": {
    "collapsed": true
   },
   "outputs": [],
   "source": [
    "prediction = l(input)"
   ]
  },
  {
   "cell_type": "code",
   "execution_count": 13,
   "metadata": {
    "collapsed": true
   },
   "outputs": [],
   "source": [
    "true_positives = torch.sum(prediction.gt(0) * output.gt(0))"
   ]
  },
  {
   "cell_type": "code",
   "execution_count": 14,
   "metadata": {
    "collapsed": true
   },
   "outputs": [],
   "source": [
    "true_negatives = torch.sum(prediction.lt(0) * output.le(0))"
   ]
  },
  {
   "cell_type": "code",
   "execution_count": 15,
   "metadata": {
    "collapsed": true
   },
   "outputs": [],
   "source": [
    "false_positives = torch.sum(prediction.gt(0) * output.le(0))"
   ]
  },
  {
   "cell_type": "code",
   "execution_count": 16,
   "metadata": {
    "collapsed": true
   },
   "outputs": [],
   "source": [
    "false_negatives = torch.sum(prediction.lt(0) * output.gt(0))"
   ]
  },
  {
   "cell_type": "markdown",
   "metadata": {},
   "source": [
    "## Precision"
   ]
  },
  {
   "cell_type": "code",
   "execution_count": 17,
   "metadata": {},
   "outputs": [
    {
     "data": {
      "text/plain": [
       "tensor(0.3823)"
      ]
     },
     "execution_count": 17,
     "metadata": {},
     "output_type": "execute_result"
    }
   ],
   "source": [
    "precision = true_positives.float() / (true_positives + true_negatives).float()\n",
    "precision"
   ]
  },
  {
   "cell_type": "markdown",
   "metadata": {},
   "source": [
    "## Recall"
   ]
  },
  {
   "cell_type": "code",
   "execution_count": 18,
   "metadata": {},
   "outputs": [
    {
     "data": {
      "text/plain": [
       "tensor(0.8561)"
      ]
     },
     "execution_count": 18,
     "metadata": {},
     "output_type": "execute_result"
    }
   ],
   "source": [
    "recall = true_positives.float() / (true_positives + false_positives).float()\n",
    "recall"
   ]
  },
  {
   "cell_type": "markdown",
   "metadata": {},
   "source": [
    "## F1 score"
   ]
  },
  {
   "cell_type": "code",
   "execution_count": 19,
   "metadata": {
    "collapsed": true
   },
   "outputs": [],
   "source": [
    "f1 = 2 * precision * recall / (precision + recall)"
   ]
  },
  {
   "cell_type": "code",
   "execution_count": 20,
   "metadata": {},
   "outputs": [
    {
     "data": {
      "text/plain": [
       "tensor(0.5286)"
      ]
     },
     "execution_count": 20,
     "metadata": {},
     "output_type": "execute_result"
    }
   ],
   "source": [
    "f1"
   ]
  },
  {
   "cell_type": "markdown",
   "metadata": {},
   "source": [
    "## Sample output for a document"
   ]
  },
  {
   "cell_type": "code",
   "execution_count": 22,
   "metadata": {
    "collapsed": true
   },
   "outputs": [],
   "source": [
    "%run ../paths.py"
   ]
  },
  {
   "cell_type": "code",
   "execution_count": 24,
   "metadata": {
    "collapsed": true
   },
   "outputs": [],
   "source": [
    "text = open(TEXT_FOLDER + 'test/doc.1.txt').readlines()"
   ]
  },
  {
   "cell_type": "code",
   "execution_count": 25,
   "metadata": {},
   "outputs": [
    {
     "name": "stdout",
     "output_type": "stream",
     "text": [
      "loaded tags\n",
      "loaded doc metadata\n",
      "loaded stop counts\n",
      "loaded outputs\n"
     ]
    }
   ],
   "source": [
    "features = get_all(start=1, end=2, type_=2)"
   ]
  },
  {
   "cell_type": "code",
   "execution_count": 32,
   "metadata": {
    "collapsed": true
   },
   "outputs": [],
   "source": [
    "input = torch.t(torch.Tensor(features[:-1]).squeeze(1))"
   ]
  },
  {
   "cell_type": "code",
   "execution_count": 33,
   "metadata": {
    "collapsed": true
   },
   "outputs": [],
   "source": [
    "pred = l(input)"
   ]
  },
  {
   "cell_type": "code",
   "execution_count": 38,
   "metadata": {
    "collapsed": true
   },
   "outputs": [],
   "source": [
    "ranks = list(zip(*sorted(enumerate(pred.data.numpy()), key=lambda x: x[1], reverse=True)))[0]"
   ]
  },
  {
   "cell_type": "markdown",
   "metadata": {},
   "source": [
    "## Sample Document"
   ]
  },
  {
   "cell_type": "code",
   "execution_count": 46,
   "metadata": {},
   "outputs": [
    {
     "name": "stdout",
     "output_type": "stream",
     "text": [
      "@entity1 's agent expects to go ' around the world ' discussing his client as interest in the @entity6 midfielder increases ahead of the summer transfer window\n",
      "\n",
      "@entity8 , who has confirmed that he held talks with @entity10 earlier this season , admits that he could receive 20 phone calls a day about the @entity13 international as clubs prepare to strengthen their squads before the start of next season\n",
      "\n",
      "city are keen to sign the @entity21 midfielder as they look to reshape their squad but @entity23 insists no decision has been made and that the 23 - year - old could even remain at the @entity26\n",
      "\n",
      "@entity6 midfielder has attracted interest from @entity10 , @entity29 and @entity30 @entity31 tussles with @entity33 's @entity32 during @entity6 's 1 - 1 draw at the @entity26 speaking to @entity35 , @entity23 said : ' for the moment , there are no formal discussions\n",
      "\n",
      "of course in the next few weeks i will be going around the world to talk about the situation with @entity1 but this is just informal information\n",
      "\n",
      "' i will talk to everybody but @entity1 is very , very happy with @entity6 and the way they have treated him since he arrived from @entity46 last year\n",
      "\n",
      "' there are still five games to play and hopefully they can make sure of a place in the @entity51 next season so it is a little bit too early to be making any decisions\n",
      "\n",
      "he has a four - year contract at @entity6 so we will have to see what they want to do\n",
      "\n",
      "' i have met the people from @entity10 and we know each other\n",
      "\n",
      "i 've never spoken to anyone from @entity62 but a lot of other clubs have been in touch to find out some general information\n",
      "\n",
      "' @entity68 champions @entity29 and @entity69 giants @entity30 are both interested in @entity31 , who is expected to cost around £ 40million after joining @entity6 from @entity46 for £ 18m in january last year\n",
      "\n",
      "@entity31 has scored 10 league goals and registered 17 assists so far this season , helping @entity74 's side to second place in the @entity68 table\n",
      "\n",
      "@entity77 celebrates with @entity31 after the @entity79 's equaliser against @entity33 on sunday @entity31 has been in superb form this season , scoring 10 goals and providing 17 assists in the @entity68\n",
      "\n"
     ]
    }
   ],
   "source": [
    "for i in text:\n",
    "    print(i)"
   ]
  },
  {
   "cell_type": "markdown",
   "metadata": {},
   "source": [
    "## Summary for the corresponding document"
   ]
  },
  {
   "cell_type": "code",
   "execution_count": 40,
   "metadata": {},
   "outputs": [
    {
     "name": "stdout",
     "output_type": "stream",
     "text": [
      "@entity1 's agent expects to go ' around the world ' discussing his client as interest in the @entity6 midfielder increases ahead of the summer transfer window\n",
      "\n",
      "@entity6 midfielder has attracted interest from @entity10 , @entity29 and @entity30 @entity31 tussles with @entity33 's @entity32 during @entity6 's 1 - 1 draw at the @entity26 speaking to @entity35 , @entity23 said : ' for the moment , there are no formal discussions\n",
      "\n",
      "@entity77 celebrates with @entity31 after the @entity79 's equaliser against @entity33 on sunday @entity31 has been in superb form this season , scoring 10 goals and providing 17 assists in the @entity68\n",
      "\n"
     ]
    }
   ],
   "source": [
    "for r in ranks[0:3]:\n",
    "    print(text[r])"
   ]
  }
 ],
 "metadata": {
  "kernelspec": {
   "display_name": "py3",
   "language": "python",
   "name": "py3"
  },
  "language_info": {
   "codemirror_mode": {
    "name": "ipython",
    "version": 3
   },
   "file_extension": ".py",
   "mimetype": "text/x-python",
   "name": "python",
   "nbconvert_exporter": "python",
   "pygments_lexer": "ipython3",
   "version": "3.5.2"
  }
 },
 "nbformat": 4,
 "nbformat_minor": 2
}
