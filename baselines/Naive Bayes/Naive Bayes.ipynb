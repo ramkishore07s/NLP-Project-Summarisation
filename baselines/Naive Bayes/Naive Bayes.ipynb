{
 "cells": [
  {
   "cell_type": "markdown",
   "metadata": {},
   "source": [
    "## Training Naive Bayes Model"
   ]
  },
  {
   "cell_type": "code",
   "execution_count": 1,
   "metadata": {
    "collapsed": true
   },
   "outputs": [],
   "source": [
    "from sklearn.naive_bayes import GaussianNB\n",
    "from tqdm import tqdm"
   ]
  },
  {
   "cell_type": "code",
   "execution_count": 2,
   "metadata": {
    "collapsed": true
   },
   "outputs": [],
   "source": [
    "%run \"../Get Features.ipynb\""
   ]
  },
  {
   "cell_type": "code",
   "execution_count": 5,
   "metadata": {
    "collapsed": true
   },
   "outputs": [],
   "source": [
    "import numpy as np"
   ]
  },
  {
   "cell_type": "code",
   "execution_count": 6,
   "metadata": {},
   "outputs": [
    {
     "name": "stdout",
     "output_type": "stream",
     "text": [
      "loaded tags\n",
      "loaded doc metadata\n",
      "loaded stop counts\n",
      "loaded outputs\n",
      "CPU times: user 2min 19s, sys: 40.9 s, total: 3min\n",
      "Wall time: 4min 50s\n"
     ]
    }
   ],
   "source": [
    "%%time\n",
    "a = get_all()\n",
    "a = [np.hstack(i) for i in a]\n",
    "pronoun, verbs, entity_counts, sen_len, sen_pos, stop_counts, output = a"
   ]
  },
  {
   "cell_type": "code",
   "execution_count": 7,
   "metadata": {},
   "outputs": [
    {
     "name": "stderr",
     "output_type": "stream",
     "text": [
      "100%|██████████| 7559250/7559250 [00:44<00:00, 170904.96it/s]\n"
     ]
    }
   ],
   "source": [
    "x = []\n",
    "\n",
    "def get_fvect(i):\n",
    "    fvect = [pronoun[i], verbs[i], entity_counts[i], sen_len[i], sen_pos[i], stop_counts[i]]\n",
    "\n",
    "    return np.asarray(fvect)\n",
    "    \n",
    "for i in tqdm(range(len(pronoun))):\n",
    "    x.append(get_fvect(i))"
   ]
  },
  {
   "cell_type": "code",
   "execution_count": 8,
   "metadata": {
    "collapsed": true
   },
   "outputs": [],
   "source": [
    "x = np.asarray(x)"
   ]
  },
  {
   "cell_type": "code",
   "execution_count": 9,
   "metadata": {
    "collapsed": true
   },
   "outputs": [],
   "source": [
    "y = np.asarray(output)"
   ]
  },
  {
   "cell_type": "code",
   "execution_count": 10,
   "metadata": {},
   "outputs": [
    {
     "data": {
      "text/plain": [
       "GaussianNB(priors=None)"
      ]
     },
     "execution_count": 10,
     "metadata": {},
     "output_type": "execute_result"
    }
   ],
   "source": [
    "bayes_clsf = GaussianNB()\n",
    "bayes_clsf.fit(x, y)"
   ]
  },
  {
   "cell_type": "code",
   "execution_count": 11,
   "metadata": {},
   "outputs": [
    {
     "data": {
      "text/plain": [
       "array([0])"
      ]
     },
     "execution_count": 11,
     "metadata": {},
     "output_type": "execute_result"
    }
   ],
   "source": [
    "bayes_clsf.predict([[ 3,  2,  1, 17, 11,  8]])"
   ]
  },
  {
   "cell_type": "code",
   "execution_count": 12,
   "metadata": {},
   "outputs": [
    {
     "data": {
      "text/plain": [
       "array([[  1.34263311,   2.75037769,   0.97571239,  19.31056766,\n",
       "         21.84443449,   8.55280738],\n",
       "       [  1.65492704,   4.10690546,   2.67279624,  32.70667046,\n",
       "         14.32934332,  12.63740534],\n",
       "       [  1.42011271,   3.22876426,   1.57733797,  23.98790809,\n",
       "         17.80195719,   9.9989353 ]])"
      ]
     },
     "execution_count": 12,
     "metadata": {},
     "output_type": "execute_result"
    }
   ],
   "source": [
    "bayes_clsf.theta_"
   ]
  },
  {
   "cell_type": "code",
   "execution_count": 13,
   "metadata": {},
   "outputs": [
    {
     "data": {
      "text/plain": [
       "array([[   1.83475972,    3.51395267,    2.26251264,  116.55232012,\n",
       "         207.37672246,   23.5682712 ],\n",
       "       [   2.98482622,    8.51124486,    9.36077274,  438.24841698,\n",
       "         178.52283444,   63.66841889],\n",
       "       [   2.08999781,    4.46458595,    3.52514001,  166.35604399,\n",
       "         178.19108311,   30.16031335]])"
      ]
     },
     "execution_count": 13,
     "metadata": {},
     "output_type": "execute_result"
    }
   ],
   "source": [
    "bayes_clsf.sigma_"
   ]
  },
  {
   "cell_type": "code",
   "execution_count": null,
   "metadata": {
    "collapsed": true
   },
   "outputs": [],
   "source": []
  },
  {
   "cell_type": "markdown",
   "metadata": {},
   "source": [
    "## Testing Model"
   ]
  },
  {
   "cell_type": "code",
   "execution_count": 14,
   "metadata": {},
   "outputs": [
    {
     "name": "stdout",
     "output_type": "stream",
     "text": [
      "loaded tags\n",
      "loaded doc metadata\n",
      "loaded stop counts\n",
      "loaded outputs\n"
     ]
    }
   ],
   "source": [
    "a = get_all(type_=2)"
   ]
  },
  {
   "cell_type": "code",
   "execution_count": 15,
   "metadata": {},
   "outputs": [
    {
     "name": "stderr",
     "output_type": "stream",
     "text": [
      "100%|██████████| 359844/359844 [00:02<00:00, 161398.62it/s]\n"
     ]
    }
   ],
   "source": [
    "testx = []\n",
    "\n",
    "a = [np.hstack(i) for i in a]\n",
    "pronoun, verbs, entity_counts, sen_len, sen_pos, stop_counts, output = a\n",
    "\n",
    "for i in tqdm(range(len(pronoun))):\n",
    "    testx.append(get_fvect(i))"
   ]
  },
  {
   "cell_type": "code",
   "execution_count": 16,
   "metadata": {
    "collapsed": true
   },
   "outputs": [],
   "source": [
    "testx = np.asarray(testx)\n",
    "testy = np.asarray(output)"
   ]
  },
  {
   "cell_type": "code",
   "execution_count": 17,
   "metadata": {
    "collapsed": true
   },
   "outputs": [],
   "source": [
    "pred = bayes_clsf.predict(testx)"
   ]
  },
  {
   "cell_type": "code",
   "execution_count": 18,
   "metadata": {},
   "outputs": [
    {
     "data": {
      "text/plain": [
       "(359844,)"
      ]
     },
     "execution_count": 18,
     "metadata": {},
     "output_type": "execute_result"
    }
   ],
   "source": [
    "pred.shape"
   ]
  },
  {
   "cell_type": "code",
   "execution_count": 19,
   "metadata": {},
   "outputs": [
    {
     "data": {
      "text/plain": [
       "(359844,)"
      ]
     },
     "execution_count": 19,
     "metadata": {},
     "output_type": "execute_result"
    }
   ],
   "source": [
    "testy.shape"
   ]
  },
  {
   "cell_type": "markdown",
   "metadata": {},
   "source": [
    "## Accuracy"
   ]
  },
  {
   "cell_type": "code",
   "execution_count": 20,
   "metadata": {},
   "outputs": [
    {
     "name": "stdout",
     "output_type": "stream",
     "text": [
      "0.5156817954446927\n"
     ]
    }
   ],
   "source": [
    "accuracy = 0\n",
    "for i in range(len(pred)):\n",
    "    if pred[i] == testy[i]:\n",
    "        accuracy += 1\n",
    "\n",
    "print(accuracy/pred.shape[0])"
   ]
  },
  {
   "cell_type": "code",
   "execution_count": null,
   "metadata": {
    "collapsed": true
   },
   "outputs": [],
   "source": []
  },
  {
   "cell_type": "markdown",
   "metadata": {},
   "source": [
    "## Sample output for a document"
   ]
  },
  {
   "cell_type": "code",
   "execution_count": 21,
   "metadata": {
    "collapsed": true
   },
   "outputs": [],
   "source": [
    "%run ../paths.py"
   ]
  },
  {
   "cell_type": "code",
   "execution_count": 22,
   "metadata": {
    "collapsed": true
   },
   "outputs": [],
   "source": [
    "text = open(TEXT_FOLDER + 'test/doc.1.txt').readlines()"
   ]
  },
  {
   "cell_type": "code",
   "execution_count": 23,
   "metadata": {},
   "outputs": [
    {
     "name": "stdout",
     "output_type": "stream",
     "text": [
      "loaded tags\n",
      "loaded doc metadata\n",
      "loaded stop counts\n",
      "loaded outputs\n"
     ]
    }
   ],
   "source": [
    "features = get_all(start=1, end=2, type_=2)"
   ]
  },
  {
   "cell_type": "markdown",
   "metadata": {},
   "source": [
    "## Sample Document"
   ]
  },
  {
   "cell_type": "code",
   "execution_count": 24,
   "metadata": {},
   "outputs": [
    {
     "name": "stdout",
     "output_type": "stream",
     "text": [
      "traitor @entity0 has revealed he did not read all the top - secret intelligence documents he leaked – a move which put lives at risk from terrorists\n",
      "\n",
      "in a television interview the fugitive squirmed as he admitted only ‘ evaluating ’ the files stolen from @entity10 and the @entity11\n",
      "\n",
      "the former @entity13 spy also acknowledged there had been a ‘ f * * * - up ’ when newspapers that were handed the classified material failed to redact sensitive details exposing operations against @entity19\n",
      "\n",
      "the 31 - year - old stunned the world in june 2013 – less than a month after the murder of @entity35 by @entity37 extremists – when he broke cover as the civilian @entity40 worker who stole classified documents\n",
      "\n",
      "he leaked information about attempts by spying agencies including @entity10 and the @entity11 to view citizens ’ private information , claiming internet history , emails , text messages , calls and passwords were harvested\n",
      "\n",
      "but security chiefs have warned that secret techniques , revealed by @entity0 ’s leaks to the @entity56 newspaper , have made it easier for terrorists and organised criminals to avoid detection\n",
      "\n",
      "last month , home secretary @entity61 attacked the harm done by the traitor – now one of the world ’s most wanted men\n",
      "\n",
      "terror experts said lives were being lost because he had hampered security service operations\n",
      "\n",
      "they warned that extremists had altered their tactics after he leaked details from intelligence agencies – with fatal results\n",
      "\n",
      "in sunday night ’s interview with @entity78 tv host @entity22 , for @entity13 channel @entity79 , @entity0 pointedly avoided saying he had read every document he handed over to journalists\n",
      "\n",
      "at one point the @entity78 comedian asks @entity0 whether he had read all of the documents he sent to journalists\n",
      "\n",
      "the whistleblower said he had an ' understanding ' of their content he would only say : ‘ i ’ve evaluated all of the documents that are in the archive\n",
      "\n",
      "’ pressed , he added : ‘ i do understand what i turned over\n",
      "\n",
      "’ but he acknowledged ‘ recognising the concern ’ over whether he knew enough about the contents of the files or the abilities of reporters to protect classified details\n",
      "\n",
      "@entity0 admitted there had been a ‘ f * * * - up ’ with the way in which some of the information about the @entity11 and @entity10 , @entity78 ’s intelligence agency , had been released\n",
      "\n",
      "last year , the @entity103 published a slide containing the name of the @entity11 employee who prepared it\n",
      "\n",
      "the target of the surveillance was also identified as @entity19 in @entity110 , @entity111\n",
      "\n",
      "@entity0 said such details should have been removed and , in a feeble attempt to defend his actions , added : ‘ in journalism we have to accept that some mistakes will be made\n",
      "\n",
      "this is a fundamental concept of liberty\n",
      "\n",
      "’ unconvinced , mr @entity22 replied : ‘ you ’re giving documents with information that you know could be harmful which could get out there … we ’re not even talking about bad faith , we ’re talking about incompetence\n",
      "\n",
      "’ @entity22 tries to get @entity0 to explain the leak in the context of nude pictures\n",
      "\n",
      "the ex-cia systems administrator claims the government can see most of the pictures you share it is one of the few occasions in which @entity0 has been put on the spot over his treachery as he normally speaks only to left - wing media who have published his leaks\n",
      "\n",
      "lord @entity141 , a former @entity142 and security minister , said : ‘ since the revelations of the traitor @entity0 , terrorist groups have changed how they communicate and talk to each other\n",
      "\n",
      "‘ his actions have made us all less safe\n",
      "\n",
      "no doubt people will die who would not have died had he not been so irresponsible\n",
      "\n",
      "’ @entity152 , of the @entity154 security think - tank , said : ‘ this is exactly the danger that those who believe @entity0 ’s actions were hugely irresponsible – and potentially fatal – warned of\n",
      "\n",
      "‘ this interview seemed to show how little @entity0 had thought about the potentially deadly consequences\n",
      "\n",
      "@entity0 stole a huge amount of sensitive documents and as a result terrorists and other serious criminals have adapted their methods accordingly\n",
      "\n",
      "’ @entity0 handed an estimated 200,000 of the 1.7million stolen classified documents to journalists\n",
      "\n",
      "in june 2013 , he told the @entity56 : ‘ i carefully evaluated every single document i disclosed to ensure that each was legitimately in the public interest\n",
      "\n",
      "’ this is a transcript of @entity0 ’s interview : @entity22 : how many of those documents have you actually read ? @entity0 : i ’ve evaluated all of the documents that are in the archive\n",
      "\n",
      "@entity22 : you ’ve read every single one ? @entity0 : i do understand what i turned over\n",
      "\n",
      "' these things happen ' : @entity0 , above , during his television interview @entity22 : there ’s a difference between understanding what ’s in the documents and reading what ’s in the documents\n",
      "\n",
      "@entity0 : i recognize the concern\n",
      "\n",
      "@entity22 ( cuts in sarcastically ) : right , because when you ’re handing over thousands of @entity11 documents , the last thing you want to do is read them\n",
      "\n",
      "( laughter ) @entity0 : i think it ’s fair to be concerned – did this person do enough , were they careful enough ? @entity22 ( cuts in ) : especially when you ’re handling material like we know you ’re handling\n",
      "\n",
      "@entity0 : in my defence i ’m not handling anything any more\n",
      "\n",
      "that ’s been passed to the journalists and they ’re using extraordinary security measures to make sure this is being reported in the most responsible way\n",
      "\n",
      "asking the @entity209 : @entity22 @entity22 : but those are journalists with a lower technical skill set than you\n",
      "\n",
      "@entity0 : that ’s true but they do understand like you and i do just how important it is to get this right\n",
      "\n",
      "@entity22 : the @entity103 took a slide , it did n’t redact it properly and in the end it was possible to see that something was being used in @entity110 on @entity19\n",
      "\n",
      "@entity0 : that is a problem\n",
      "\n",
      "@entity22 : well , that ’s a * * * * - up\n",
      "\n",
      "@entity0 : it is a * * * * - up and these things do happen in reporting\n",
      "\n",
      "in journalism we have to accept that some mistakes will be made\n",
      "\n",
      "this is a fundamental concept of liberty\n",
      "\n",
      "@entity22 : right , but you have to own that then\n",
      "\n",
      "you ’re giving documents with information that you know could be harmful which could get out there\n",
      "\n",
      "@entity0 : yes , if people act in bad faith\n",
      "\n",
      "@entity22 ( cuts in ) : we ’re not even talking about bad faith , we ’re talking about incompetence\n",
      "\n",
      "@entity0 : we are , but you will never be completely free from risk if you ’re free\n",
      "\n",
      "the only time you can be free from risk is when you ’re in prison\n",
      "\n",
      "he added : ‘ there are all sorts of documents that would have made a big impact that i did n’t turn over , because harming people is n’t my goal\n",
      "\n",
      "’ a report by the @entity154 last month revealed terror suspects were using human couriers instead of email and phones following the leaks by @entity0\n",
      "\n",
      "@entity268 operations of @entity78 spies have been damaged , with @entity270 seizing on the information – making it harder to track down its operatives\n",
      "\n",
      "@entity19 militants are known to have changed communication methods to avoid detection , and have produced a video advising fellow extremists on the matter\n",
      "\n",
      "@entity10 has lost track of some of @entity78 ’s most dangerous criminals because of the way @entity0 exposed its operations\n",
      "\n",
      "officials had to stop monitoring drug gangs , paedophiles , human traffickers and money launderers\n",
      "\n",
      "the agency has also been forced to tone down or abandon surveillance amid fears the tactics are too easy to spot and could force criminals to fall off the radar\n",
      "\n",
      "mrs may told the @entity299 home affairs committee that the leaks ‘ did cause damage ’ , adding : ‘ it has had an impact on the ability of our agencies to do the work they need to do\n",
      "\n",
      "’ @entity0 , who was a computer specialist at an intelligence centre in @entity310 , tricked colleagues into handing over passwords so he could copy files in one of the biggest leaks in @entity13 history\n",
      "\n",
      "he claims he had to act because the @entity13 government ’s policies were a ‘ threat to democracy ’\n",
      "\n",
      "he fled to @entity322 , then @entity323 , where he was granted asylum and now lives in a secret location\n",
      "\n",
      "a @entity56 spokesman said the newspaper had ‘ nothing to add ’ in response to @entity0 saying he had ‘ evaluated ’ the documents and whether this had put people at risk\n",
      "\n",
      "how the @entity56 changed headline to protect its favourite ' whistleblower ' the left - wing @entity56 newspaper climbed into bed with @entity0 when he leaked the top - secret intelligence documents , publishing a string of damaging stories\n",
      "\n",
      "and yesterday it was still giving the so - called whistleblower an easy ride when reporting on his clash with tv host @entity22 on his @entity13 show @entity347\n",
      "\n",
      "the initial story on the @entity56 website focused on the sensational revelation that @entity0 had apparently not read all the documents\n",
      "\n",
      "the headline stated : ‘ @entity0 tells @entity22 he did not read all leaked @entity11 material\n",
      "\n",
      "’ it added : ‘ the whistleblower admits his actions carried dangers\n",
      "\n",
      "’ but within hours it had toned down the headline so it focused less on his irresponsibility and incompetence\n",
      "\n",
      "it was changed to : ‘ @entity22 presses @entity0 on whether he read all leaked @entity11 material\n",
      "\n",
      "’ the sub-heading was amended , to the softer : ‘ @entity79 host posts uncomfortable questions to @entity11 whistleblower in interview in @entity23\n",
      "\n",
      "’ a @entity56 spokesman said the headline was changed because ‘ an earlier version stated that @entity0 admitted he had not read all the @entity11 documents he leaked\n",
      "\n",
      "in fact he did not answer that question ’\n",
      "\n",
      "the first @entity56 website story ... ... ...\n",
      "\n",
      "and the later toned down version\n",
      "\n"
     ]
    }
   ],
   "source": [
    "for i in text:\n",
    "    print(i)"
   ]
  },
  {
   "cell_type": "code",
   "execution_count": null,
   "metadata": {
    "collapsed": true
   },
   "outputs": [],
   "source": []
  },
  {
   "cell_type": "code",
   "execution_count": 25,
   "metadata": {},
   "outputs": [
    {
     "data": {
      "text/plain": [
       "array([ 3134808.,  2912274.,  1512168.])"
      ]
     },
     "execution_count": 25,
     "metadata": {},
     "output_type": "execute_result"
    }
   ],
   "source": [
    "bayes_clsf.class_count_"
   ]
  },
  {
   "cell_type": "code",
   "execution_count": 26,
   "metadata": {},
   "outputs": [
    {
     "data": {
      "text/plain": [
       "array([ 0.41469828,  0.38525965,  0.20004207])"
      ]
     },
     "execution_count": 26,
     "metadata": {},
     "output_type": "execute_result"
    }
   ],
   "source": [
    "bayes_clsf.class_prior_"
   ]
  },
  {
   "cell_type": "code",
   "execution_count": 28,
   "metadata": {},
   "outputs": [
    {
     "data": {
      "text/plain": [
       "array([[  1.34263311,   2.75037769,   0.97571239,  19.31056766,\n",
       "         21.84443449,   8.55280738],\n",
       "       [  1.65492704,   4.10690546,   2.67279624,  32.70667046,\n",
       "         14.32934332,  12.63740534],\n",
       "       [  1.42011271,   3.22876426,   1.57733797,  23.98790809,\n",
       "         17.80195719,   9.9989353 ]])"
      ]
     },
     "execution_count": 28,
     "metadata": {},
     "output_type": "execute_result"
    }
   ],
   "source": [
    "bayes_clsf.theta_"
   ]
  },
  {
   "cell_type": "code",
   "execution_count": 29,
   "metadata": {},
   "outputs": [
    {
     "data": {
      "text/plain": [
       "array([[   1.83475972,    3.51395267,    2.26251264,  116.55232012,\n",
       "         207.37672246,   23.5682712 ],\n",
       "       [   2.98482622,    8.51124486,    9.36077274,  438.24841698,\n",
       "         178.52283444,   63.66841889],\n",
       "       [   2.08999781,    4.46458595,    3.52514001,  166.35604399,\n",
       "         178.19108311,   30.16031335]])"
      ]
     },
     "execution_count": 29,
     "metadata": {},
     "output_type": "execute_result"
    }
   ],
   "source": [
    "bayes_clsf.sigma_"
   ]
  },
  {
   "cell_type": "code",
   "execution_count": null,
   "metadata": {
    "collapsed": true
   },
   "outputs": [],
   "source": []
  }
 ],
 "metadata": {
  "kernelspec": {
   "display_name": "Python 3",
   "language": "python",
   "name": "python3"
  },
  "language_info": {
   "codemirror_mode": {
    "name": "ipython",
    "version": 3
   },
   "file_extension": ".py",
   "mimetype": "text/x-python",
   "name": "python",
   "nbconvert_exporter": "python",
   "pygments_lexer": "ipython3",
   "version": "3.5.2"
  }
 },
 "nbformat": 4,
 "nbformat_minor": 2
}
